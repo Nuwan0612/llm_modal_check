{
 "cells": [
  {
   "cell_type": "code",
   "execution_count": 1,
   "metadata": {},
   "outputs": [],
   "source": [
    "from dotenv import load_dotenv\n",
    "import os\n",
    "from langchain_anthropic import ChatAnthropic\n",
    "\n",
    "load_dotenv()\n",
    "\n",
    "KEY = os.getenv(\"ANTHROPIC_API_KEY\")\n",
    "MODEL = \"claude-3-opus-20240229\"\n",
    "chat = ChatAnthropic(temperature=0, api_key=KEY, model_name=MODEL)\n",
    "\n",
    "# response = chat.invoke(\"Can you tell me a joke?\")"
   ]
  },
  {
   "cell_type": "code",
   "execution_count": 2,
   "metadata": {},
   "outputs": [],
   "source": [
    "from langchain_core.output_parsers import StrOutputParser\n",
    "\n",
    "parser = StrOutputParser()\n",
    "\n",
    "# chain = chat | parser\n",
    "# chain.invoke(\"Can you tell me a joke?\")"
   ]
  },
  {
   "cell_type": "code",
   "execution_count": 5,
   "metadata": {},
   "outputs": [],
   "source": [
    "from langchain_community.document_loaders import  PyPDFLoader\n",
    "\n",
    "loader = PyPDFLoader(\"Zarchiver.pdf\")\n",
    "pages = loader.load_and_split()\n"
   ]
  },
  {
   "cell_type": "code",
   "execution_count": 4,
   "metadata": {},
   "outputs": [],
   "source": [
    "from langchain.prompts import PromptTemplate\n",
    "\n",
    "template = \"\"\"\n",
    "Answer the question based on the context below. If you can't answer the question, reply \"I don't know\".\n",
    "\n",
    "Context: {context}\n",
    "\n",
    "Question: {question}\n",
    "\"\"\"\n",
    "\n",
    "prompt = PromptTemplate.from_template(template)\n"
   ]
  },
  {
   "cell_type": "code",
   "execution_count": 7,
   "metadata": {},
   "outputs": [],
   "source": [
    "from langchain_community.embeddings import OllamaEmbeddings\n",
    "\n",
    "embeddings = OllamaEmbeddings(model=\"llama3\")\n"
   ]
  },
  {
   "cell_type": "code",
   "execution_count": 8,
   "metadata": {},
   "outputs": [],
   "source": [
    "from langchain_community.vectorstores import DocArrayInMemorySearch\n",
    "\n",
    "vectorstore = DocArrayInMemorySearch.from_documents(\n",
    "  pages, \n",
    "  embedding=embeddings\n",
    ")"
   ]
  },
  {
   "cell_type": "code",
   "execution_count": 14,
   "metadata": {},
   "outputs": [],
   "source": [
    "retriver = vectorstore.as_retriever()\n",
    "# retriver.invoke(\"Zarchiver\")"
   ]
  },
  {
   "cell_type": "code",
   "execution_count": 13,
   "metadata": {},
   "outputs": [
    {
     "data": {
      "text/plain": [
       "'Based on the given context, Zarchiver is an Android application designed for efficient archive file management. It allows users to compress large folders into more manageable sizes and extract the compressed files to access the content when needed.\\n\\nSome key features of Zarchiver include:\\n\\n1. Protection - It secures archive folders by applying passwords.\\n\\n2. Compression and Decompression - It can compress large files into small archive files to save storage space and extract compressed files to access their contents. \\n\\n3. File management - It allows file operations like copying, moving, deleting, searching files within the app.\\n\\n4. Supports various archive types like 7zip, zip, bzip2 and more.\\n\\n5. User-friendly interface with a simple layout that makes it easy to use.\\n\\nOverall, Zarchiver fills the gap by offering functionality similar to desktop applications like WinRAR, 7-Zip directly on Android devices for managing archive files.'"
      ]
     },
     "execution_count": 13,
     "metadata": {},
     "output_type": "execute_result"
    }
   ],
   "source": [
    "from operator import itemgetter\n",
    "\n",
    "chain = (\n",
    "  {\n",
    "    \"context\": itemgetter(\"question\") | retriver,\n",
    "    \"question\": itemgetter(\"question\")\n",
    "  }\n",
    "  | prompt\n",
    "  | chat\n",
    "  | parser\n",
    ")\n",
    "\n",
    "chain.invoke({\"question\": \"What is Zarchiver\"})"
   ]
  }
 ],
 "metadata": {
  "kernelspec": {
   "display_name": ".venv",
   "language": "python",
   "name": "python3"
  },
  "language_info": {
   "codemirror_mode": {
    "name": "ipython",
    "version": 3
   },
   "file_extension": ".py",
   "mimetype": "text/x-python",
   "name": "python",
   "nbconvert_exporter": "python",
   "pygments_lexer": "ipython3",
   "version": "3.11.5"
  }
 },
 "nbformat": 4,
 "nbformat_minor": 2
}
