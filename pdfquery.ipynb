{
 "cells": [
  {
   "cell_type": "code",
   "execution_count": 5,
   "metadata": {},
   "outputs": [
    {
     "name": "stderr",
     "output_type": "stream",
     "text": [
      "d:\\Ollama Local Model\\.venv\\Lib\\site-packages\\tqdm\\auto.py:21: TqdmWarning: IProgress not found. Please update jupyter and ipywidgets. See https://ipywidgets.readthedocs.io/en/stable/user_install.html\n",
      "  from .autonotebook import tqdm as notebook_tqdm\n"
     ]
    }
   ],
   "source": [
    "from langchain.vectorstores.cassandra import Cassandra\n",
    "from langchain.indexes.vectorstore import VectorStoreIndexWrapper\n",
    "from langchain_anthropic import ChatAnthropic\n",
    "# from langchain_community.embeddings import OllamaEmbeddings\n",
    "\n",
    "# Support for dataset retrieval with Hugging Face\n",
    "from datasets import load_dataset\n",
    "\n",
    "# With CassIO, the engine powering the Astra DB integration in Langchain\n",
    "# Initialize database connection\n",
    "import cassio\n",
    "\n",
    "from PyPDF2 import PdfReader\n",
    "\n",
    "from dotenv import load_dotenv\n",
    "import os\n",
    "\n",
    "load_dotenv()\n",
    "\n",
    "CLAUDE_KEY = os.getenv(\"ANTHROPIC_API_KEY\")\n",
    "CLAUDE_MODEL = \"claude-3-opus-20240229\"\n"
   ]
  },
  {
   "cell_type": "code",
   "execution_count": 6,
   "metadata": {},
   "outputs": [],
   "source": [
    "pdfreader = PdfReader(\"Zarchiver.pdf\")\n",
    "\n",
    "from typing_extensions import Concatenate\n",
    "raw_text = \"\"\n",
    "\n",
    "for i, page in enumerate(pdfreader.pages):\n",
    "  content = page.extract_text()\n",
    "  if content:\n",
    "    raw_text += content"
   ]
  },
  {
   "cell_type": "code",
   "execution_count": 7,
   "metadata": {},
   "outputs": [],
   "source": [
    "cassio.init(token=os.getenv(\"ASTRA_DB_APPLICATION_TOKEN\"), database_id=os.getenv(\"ASTRA_DB_ID\"))"
   ]
  },
  {
   "cell_type": "code",
   "execution_count": 8,
   "metadata": {},
   "outputs": [],
   "source": [
    "llm = ChatAnthropic(temperature=0.6, api_key=CLAUDE_KEY, model_name=CLAUDE_MODEL)\n",
    "\n",
    "# embeddings = OllamaEmbeddings(model=\"llama3\")"
   ]
  },
  {
   "cell_type": "code",
   "execution_count": 9,
   "metadata": {},
   "outputs": [],
   "source": [
    "astra_vector_store = Cassandra(\n",
    "  embedding=embeddings,\n",
    "  table_name=\"qa_mini_demo\",\n",
    "  session=None,\n",
    "  keyspace=None\n",
    ")"
   ]
  },
  {
   "cell_type": "code",
   "execution_count": 10,
   "metadata": {},
   "outputs": [],
   "source": [
    "from langchain.text_splitter import CharacterTextSplitter\n",
    "\n",
    "text_splitter = CharacterTextSplitter(\n",
    "  separator=\"\\n\",\n",
    "  chunk_size = 800,\n",
    "  chunk_overlap = 200,\n",
    "  length_function = len\n",
    ")\n",
    "\n",
    "texts = text_splitter.split_text(raw_text)"
   ]
  },
  {
   "cell_type": "code",
   "execution_count": 11,
   "metadata": {},
   "outputs": [],
   "source": [
    "astra_vector_store.add_texts(texts)\n",
    "\n",
    "astra_vector_index = VectorStoreIndexWrapper(vectorstore=astra_vector_store)"
   ]
  },
  {
   "cell_type": "code",
   "execution_count": 12,
   "metadata": {},
   "outputs": [
    {
     "name": "stdout",
     "output_type": "stream",
     "text": [
      "\n",
      "QUESTION: \"What is Zarchiver ?\"\n",
      "\n",
      "Answer: \"According to the provided information, Zarchiver is a popular application designed for Android devices. It is widely used to compress files and decompress archive files.\n",
      "\n",
      "Some key points about Zarchiver:\n",
      "\n",
      "- It can read many different file formats\n",
      "- It provides password protection for files\n",
      "- It has facilities for system file management \n",
      "- It allows editing archived files\n",
      "- It can partially decompress files as per the user's desire\n",
      "- It is compatible with RAR and 7z file formats\n",
      "- It has a user-friendly interface and is easy to use\n",
      "- It is available in both free and paid versions\n",
      "- Any modern Android device can run this app without issues\n",
      "\n",
      "So in summary, Zarchiver is a feature-rich file archiving and compression tool designed specifically for the Android platform.\"\n"
     ]
    }
   ],
   "source": [
    "first_question = True\n",
    "while True:\n",
    "  if first_question:\n",
    "    query_text = input(\"\\nEnter your question (or type 'quit' to exit): \").strip()\n",
    "  else:\n",
    "    query_text = input(\"\\nWhat's your next question (or type 'quit' to exit): \").strip()\n",
    "\n",
    "  if query_text.lower() == \"quit\":\n",
    "    break\n",
    "\n",
    "  if query_text == \"\":\n",
    "    continue\n",
    "\n",
    "  first_question = False\n",
    "\n",
    "  print(\"\\nQUESTION: \\\"%s\\\"\" % query_text)\n",
    "\n",
    "  answer = astra_vector_index.query(query_text, llm = llm).strip()\n",
    "  print(\"\\nAnswer: \\\"%s\\\"\" % answer)\n"
   ]
  }
 ],
 "metadata": {
  "kernelspec": {
   "display_name": ".venv",
   "language": "python",
   "name": "python3"
  },
  "language_info": {
   "codemirror_mode": {
    "name": "ipython",
    "version": 3
   },
   "file_extension": ".py",
   "mimetype": "text/x-python",
   "name": "python",
   "nbconvert_exporter": "python",
   "pygments_lexer": "ipython3",
   "version": "3.11.5"
  }
 },
 "nbformat": 4,
 "nbformat_minor": 2
}
