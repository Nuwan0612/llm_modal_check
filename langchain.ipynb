{
 "cells": [
  {
   "cell_type": "code",
   "execution_count": 3,
   "metadata": {},
   "outputs": [],
   "source": [
    "from dotenv import load_dotenv\n",
    "import os\n",
    "from langchain_anthropic import ChatAnthropic\n",
    "\n",
    "load_dotenv()\n",
    "\n",
    "CLAUDE_KEY = os.getenv(\"ANTHROPIC_API_KEY\")\n",
    "CLAUDE_MODEL = \"claude-3-opus-20240229\"\n",
    "llm = ChatAnthropic(temperature=0, api_key=CLAUDE_KEY, model_name=CLAUDE_MODEL)\n"
   ]
  },
  {
   "cell_type": "code",
   "execution_count": 2,
   "metadata": {},
   "outputs": [],
   "source": [
    "from langchain.prompts import PromptTemplate\n",
    "\n",
    "template = \"\"\"\n",
    "You have to tell the capital of the given country.\n",
    "\n",
    "Country: {country}\n",
    "\"\"\"\n",
    "\n",
    "prompt = PromptTemplate.from_template(template)\n",
    "\n",
    "# print(llm.invoke(prompt.format(country=\"Sri Lanka\")).content)"
   ]
  },
  {
   "cell_type": "code",
   "execution_count": 6,
   "metadata": {},
   "outputs": [],
   "source": [
    "from langchain.chains import LLMChain\n",
    "# chain=LLMChain(llm=llm, prompt=prompt)\n",
    "# print(chain.invoke(\"Sri Lanka\"))"
   ]
  },
  {
   "cell_type": "code",
   "execution_count": 7,
   "metadata": {},
   "outputs": [],
   "source": [
    "capital_prompt = PromptTemplate(\n",
    "  input_variables=['country'],\n",
    "  template=\"Please tell me the capital of the {country}\"\n",
    "  )\n",
    "\n",
    "capital_chain = LLMChain(llm=llm, prompt=capital_prompt)\n",
    "\n",
    "famous_template = PromptTemplate(\n",
    "  input_variables=['capital'],\n",
    "  template=\"Suggest me some amazing places to visit in {capital}\"\n",
    ")\n",
    "\n",
    "famous_chain = LLMChain(llm=llm, prompt=famous_template)"
   ]
  },
  {
   "cell_type": "code",
   "execution_count": 9,
   "metadata": {},
   "outputs": [],
   "source": [
    "from langchain.chains import SimpleSequentialChain\n",
    "\n",
    "chain = SimpleSequentialChain(chains=[capital_chain, famous_chain])\n",
    "chain.run(\"Sri Lanka\")"
   ]
  },
  {
   "cell_type": "code",
   "execution_count": 15,
   "metadata": {},
   "outputs": [
    {
     "data": {
      "text/plain": [
       "AIMessage(content=\"Thank you for the clarification about the capital of Sri Lanka. Given that Colombo is the commercial capital and the largest city, I will suggest three places to visit in Colombo:\\n\\n1. Gangaramaya Temple: This Buddhist temple is a popular tourist attraction known for its unique architecture, which blends Sri Lankan, Thai, and Chinese styles. The temple complex also includes a museum with a vast collection of artifacts.\\n\\n2. Galle Face Green: This urban park stretches along the coast and is a popular spot for locals and tourists alike. You can enjoy a stroll along the promenade, fly kites, or savor local street food from the many vendors.\\n\\n3. National Museum of Colombo: Sri Lanka's largest museum showcases the country's rich cultural and natural heritage. The exhibits include ancient artifacts, royal regalia, and art spanning several centuries.\\n\\nIf you have more time, you can also consider visiting these places near Colombo:\\n\\n- Mount Lavinia Beach: A popular beach located just south of Colombo.\\n- Kelaniya Raja Maha Vihara: An ancient Buddhist temple with a history dating back over 2,000 years, located in the Colombo District.\\n- Colombo Lotus Tower: A modern landmark and the tallest self-supported structure in South Asia, offering panoramic views of the city.\", response_metadata={'id': 'msg_01DqcUWXVCKYoEyrCux5Z8oG', 'model': 'claude-3-opus-20240229', 'stop_reason': 'end_turn', 'stop_sequence': None, 'usage': {'input_tokens': 152, 'output_tokens': 299}}, id='run-f847b70f-e0b7-4263-965a-29bbc5b11599-0')"
      ]
     },
     "execution_count": 15,
     "metadata": {},
     "output_type": "execute_result"
    }
   ],
   "source": [
    "capital_template = \"\"\"\n",
    "Please tell the capital of the {country}\n",
    "\"\"\"\n",
    "\n",
    "famous_template = \"\"\"\n",
    "Suggest me 3 places to visit in {capital}\n",
    "\"\"\"\n",
    "\n",
    "capital_prompt = PromptTemplate.from_template(capital_template)\n",
    "famous_prompt = PromptTemplate.from_template(famous_template)\n",
    "\n",
    "chain_capital = capital_prompt | llm \n",
    "chain_famous = famous_prompt | llm\n",
    "\n",
    "capital_name = chain_capital.invoke({\"country\": \"Sri Lanka\"}).content\n",
    "\n",
    "name = capital_name.strip()\n",
    "chain_famous.invoke({\"capital\": name})\n"
   ]
  },
  {
   "cell_type": "code",
   "execution_count": 10,
   "metadata": {},
   "outputs": [
    {
     "name": "stdout",
     "output_type": "stream",
     "text": [
      "Here are 5 words synonymous with \"good\":\n",
      "\n",
      "1. Excellent\n",
      "2. Superb\n",
      "3. Fantastic\n",
      "4. Wonderful\n",
      "5. Great\n"
     ]
    }
   ],
   "source": [
    "from langchain.prompts.chat import ChatPromptTemplate\n",
    "# from langchain.schema import BaseOutputParser\n",
    "from langchain_core.output_parsers import StrOutputParser\n",
    "\n",
    "parser = StrOutputParser()\n",
    "\n",
    "# class Commaseperateoutput(BaseOutputParser):\n",
    "#   def parse(self, text: str):\n",
    "#     return text.strip().split(',')\n",
    "  \n",
    "template = \"\"\"\n",
    "You are a helpful assistant. When the use given any input , you should generate 5 words synonymous\n",
    "\"\"\"\n",
    "\n",
    "human_template = \"{text}\"\n",
    "chatprompt = ChatPromptTemplate.from_messages([\n",
    "  (\"system\",template),\n",
    "  (\"human\", human_template)\n",
    "])\n",
    "\n",
    "chain = chatprompt | llm | parser\n",
    "result = chain.invoke({\"text\": \"good\"})\n",
    "print(result)"
   ]
  }
 ],
 "metadata": {
  "kernelspec": {
   "display_name": ".venv",
   "language": "python",
   "name": "python3"
  },
  "language_info": {
   "codemirror_mode": {
    "name": "ipython",
    "version": 3
   },
   "file_extension": ".py",
   "mimetype": "text/x-python",
   "name": "python",
   "nbconvert_exporter": "python",
   "pygments_lexer": "ipython3",
   "version": "3.11.5"
  }
 },
 "nbformat": 4,
 "nbformat_minor": 2
}
